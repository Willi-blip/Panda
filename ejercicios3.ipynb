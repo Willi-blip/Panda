{
  "nbformat": 4,
  "nbformat_minor": 0,
  "metadata": {
    "colab": {
      "provenance": [],
      "authorship_tag": "ABX9TyMN44NgdK1QGCGSanpZGho7",
      "include_colab_link": true
    },
    "kernelspec": {
      "name": "python3",
      "display_name": "Python 3"
    },
    "language_info": {
      "name": "python"
    }
  },
  "cells": [
    {
      "cell_type": "markdown",
      "metadata": {
        "id": "view-in-github",
        "colab_type": "text"
      },
      "source": [
        "<a href=\"https://colab.research.google.com/github/Willi-blip/Panda/blob/main/ejercicios3.ipynb\" target=\"_parent\"><img src=\"https://colab.research.google.com/assets/colab-badge.svg\" alt=\"Open In Colab\"/></a>"
      ]
    },
    {
      "cell_type": "markdown",
      "source": [
        "Ejercicio 1\n",
        "programa que pregunte al usuari por las ventas de un rango de años y muestre porpantalla una serie conlos datos de las ventas indicado por los años antes y despues de aplicar un descuente del 5%"
      ],
      "metadata": {
        "id": "kpk8LBhe0VMt"
      }
    },
    {
      "cell_type": "code",
      "source": [
        "import pandas as pd\n",
        "inicio = int(input(\"Ingrese el año inicial:\"))\n",
        "fin = int(input(\"Ingrese el año final:\"))\n",
        "ventas = {}\n",
        "for i in range(inicio, fin+1):\n",
        "  ventas[i] = float(input(\"Ingrese las ventas del año\" + str(i) +','))\n",
        "ventas = pd.Series(ventas)\n",
        "print(\"ventas\\n\", ventas)\n",
        "print(\"ventas con descuento\\n\", ventas*0.5)\n",
        "ventas_pares = ventas[ventas.index % 2 == 0]\n",
        "print(\"ventas con años pares\\n\", ventas_pares)\n"
      ],
      "metadata": {
        "colab": {
          "base_uri": "https://localhost:8080/"
        },
        "id": "VwYhOQa71qq-",
        "outputId": "68c33675-ce93-45d7-c1c7-79a032e93f40"
      },
      "execution_count": 8,
      "outputs": [
        {
          "output_type": "stream",
          "name": "stdout",
          "text": [
            "Ingrese el año inicial:2000\n",
            "Ingrese el año final:2020\n",
            "Ingrese las ventas del año2000,594\n",
            "Ingrese las ventas del año2001,484\n",
            "Ingrese las ventas del año2002,454\n",
            "Ingrese las ventas del año2003,484\n",
            "Ingrese las ventas del año2004,484\n",
            "Ingrese las ventas del año2005,484\n",
            "Ingrese las ventas del año2006,4\n",
            "Ingrese las ventas del año2007,44\n",
            "Ingrese las ventas del año2008,48\n",
            "Ingrese las ventas del año2009,45\n",
            "Ingrese las ventas del año2010,54\n",
            "ventas\n",
            " 2000    594.0\n",
            "2001    484.0\n",
            "2002    454.0\n",
            "2003    484.0\n",
            "2004    484.0\n",
            "2005    484.0\n",
            "2006      4.0\n",
            "2007     44.0\n",
            "2008     48.0\n",
            "2009     45.0\n",
            "2010     54.0\n",
            "dtype: float64\n",
            "ventas con descuento\n",
            " 2000    297.0\n",
            "2001    242.0\n",
            "2002    227.0\n",
            "2003    242.0\n",
            "2004    242.0\n",
            "2005    242.0\n",
            "2006      2.0\n",
            "2007     22.0\n",
            "2008     24.0\n",
            "2009     22.5\n",
            "2010     27.0\n",
            "dtype: float64\n",
            "ventas con numeros pares\n",
            " 2000    594.0\n",
            "2002    454.0\n",
            "2004    484.0\n",
            "2006      4.0\n",
            "2008     48.0\n",
            "2010     54.0\n",
            "dtype: float64\n"
          ]
        }
      ]
    },
    {
      "cell_type": "markdown",
      "source": [
        "Ejercicio 2 :Calculo de estadisticas basicas, media, mediana, desviacion estandar - numpy para el dataframe"
      ],
      "metadata": {
        "id": "P9vcazyNECJi"
      }
    },
    {
      "cell_type": "code",
      "execution_count": 15,
      "metadata": {
        "colab": {
          "base_uri": "https://localhost:8080/"
        },
        "id": "ppI3mZZZ0Uqr",
        "outputId": "06a3fa19-de1b-4d84-8aba-effc42aba9ae"
      },
      "outputs": [
        {
          "output_type": "stream",
          "name": "stdout",
          "text": [
            "32.5\n",
            "31.0\n",
            "8.200609733428363\n",
            "MAX: 45\n",
            "Min: 23\n"
          ]
        }
      ],
      "source": [
        "import pandas as pd\n",
        "import numpy as np\n",
        "#crear un dataframe\n",
        "\n",
        "data = {'Nombre':['Jose', 'Juan', 'Maria', 'Pedro'],'Edad':[34, 28, 45, 23], 'Ciudad': ['Huancayo', 'Arequipa', 'Trujillo', 'Lima']}\n",
        "df = pd.DataFrame(data)\n",
        "\n",
        "#Calcular la media utilizando numpy\n",
        "media_edad = np.mean(df['Edad'])\n",
        "print(media_edad)\n",
        "\n",
        "#Calcular la mediana utilizando numpy\n",
        "media_edad = np.median(df['Edad'])\n",
        "print(media_edad)\n",
        "\n",
        "#Calcular la desviacion estandar utilizando numpy\n",
        "desviacion_edad = np.std(df['Edad'])\n",
        "print(desviacion_edad)\n",
        "\n",
        "#Calcular el maximo y el minimo utilizando numpy\n",
        "maximo_edad = np.max(df['Edad'])\n",
        "minimo_edad = np.min(df['Edad'])\n",
        "print(\"MAX:\", maximo_edad)\n",
        "print(\"Min:\", minimo_edad)"
      ]
    }
  ]
}